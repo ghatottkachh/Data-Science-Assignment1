{
 "cells": [
  {
   "cell_type": "code",
   "execution_count": null,
   "id": "97a921b2-3936-4a38-a206-4d3c8b1356a9",
   "metadata": {},
   "outputs": [],
   "source": [
    "1.Who develope python programming Language\n",
    "Python is a high-level, interpreted programming language that was first created by Guido van Rossum in the late 1980s.\n",
    "Van Rossum was working at the National Research Institute for Mathematics and Computer Science in the Netherlands at the time,\n",
    "and he named the language after the BBC television show \"Monty Python's Flying Circus\" because \n",
    "he thought the name was fun and memorable. \n",
    "Python was designed to be easy to read and write, and it has a large and active community of users and developers.\n",
    "It is widely used in a variety of fields, including web development, data science, and artificial intelligence."
   ]
  },
  {
   "cell_type": "code",
   "execution_count": null,
   "id": "74935f81-071f-4876-b2b5-ad04cc2624ed",
   "metadata": {},
   "outputs": [],
   "source": [
    "2.Which type of Programming does python supports?\n",
    "Python is a multi-paradigm programming language.\n",
    "Object-oriented programming and structured programming are fully supported,\n",
    "and many of their features support functional programming and aspect-oriented programming \n",
    "(including metaprogramming and metaobjects)."
   ]
  },
  {
   "cell_type": "code",
   "execution_count": null,
   "id": "7cef64e6-3152-4de2-9638-5d999e507c49",
   "metadata": {},
   "outputs": [],
   "source": [
    "is python case sensitive when dealing with identifiers?\n",
    "Yes, Python is a case-sensitive language, i.e., it treats uppercase and lowercase characters differently.\n",
    "This applies to identifiers too. \n",
    "You must avoid using the same name with different cases while naming identifiers."
   ]
  },
  {
   "cell_type": "code",
   "execution_count": null,
   "id": "dbf98038-b2c6-4a13-b24a-f649388c5ebf",
   "metadata": {},
   "outputs": [],
   "source": [
    "4.What is the correct file extension for Python files?\n",
    ".py"
   ]
  },
  {
   "cell_type": "code",
   "execution_count": null,
   "id": "2241d919-c8bc-4d1c-8ee0-06c80eb47947",
   "metadata": {},
   "outputs": [],
   "source": [
    "5.Is python compiled or Interpreted?\n",
    "n various books of python programming, it is mentioned that python language is interpreted.\n",
    "But that is half correct the python program is first compiled and then interpreted.\n",
    "The compilation part is hidden from the programmer thus, many programmers believe that it is an interpreted language.\n",
    "The compilation part is done first when we execute our code and this will generate byte code and \n",
    "internally this byte code gets converted by the python virtual machine(p.v.m) \n",
    "according to the underlying platform(machine+operating system)."
   ]
  },
  {
   "cell_type": "code",
   "execution_count": null,
   "id": "a001c6ef-7868-43bb-8236-112b45fa7f36",
   "metadata": {},
   "outputs": [],
   "source": [
    "6.Name a few code of blocks used to define in python language?\n",
    "Indentation is used to define a block of code in python.\n",
    "Braces {} are used to define a block of code in most programming languages, \n",
    "like C, C++, and Java. But this indentation makes python unique among all programming languages."
   ]
  },
  {
   "cell_type": "code",
   "execution_count": null,
   "id": "6ef9d081-d6f7-44fc-beaa-dd8b4969d16e",
   "metadata": {},
   "outputs": [],
   "source": [
    "7.mention function which can help us to find the version of python you are currently working in\n",
    "To get the Version of the python Interpreter, \n",
    "they are listed as follows: Using sys. version method. Using python_version() function"
   ]
  },
  {
   "cell_type": "code",
   "execution_count": null,
   "id": "713fb083-1329-4483-adce-90a391d7abd2",
   "metadata": {},
   "outputs": [],
   "source": [
    "8.State a character used to define single line comment in python?\n",
    "Hash character(#) is used to comment the line in the Python program.\n",
    "    Comments does not have to be text to explain the code, \n",
    "    it can also be used to prevent Python from executing code.\n",
    "    The hash character should be placed before the line to be commented."
   ]
  },
  {
   "cell_type": "code",
   "execution_count": null,
   "id": "c66d2907-4060-4349-9242-61a864b743a4",
   "metadata": {},
   "outputs": [],
   "source": [
    "9.Python supports to create a function in the runtime by using the constructor called?\n",
    "Python supports the creation of anonymous functions \n",
    "(i.e. functions that are not bound to a name) at runtime, using a construct called lambda."
   ]
  },
  {
   "cell_type": "code",
   "execution_count": null,
   "id": "f105ea4b-becf-435f-bfe6-6afa4c5955a2",
   "metadata": {},
   "outputs": [],
   "source": [
    "10.what does pip stands for python?\n",
    "preferred installer program"
   ]
  },
  {
   "cell_type": "code",
   "execution_count": null,
   "id": "e6a9e75e-2839-4d59-bdab-62b01182d1b9",
   "metadata": {},
   "outputs": [],
   "source": [
    "11.mention a few built in function in python?\n",
    "Python Built-in Functions\n",
    "print( ) function.\n",
    "type( ) function.\n",
    "input( ) function.\n",
    "abs( ) function.\n",
    "pow( ) function.\n",
    "dir( ) function.\n",
    "sorted( ) function.\n",
    "max( ) function."
   ]
  },
  {
   "cell_type": "code",
   "execution_count": null,
   "id": "52a98a09-47e5-4279-85cc-20c4dc97d854",
   "metadata": {},
   "outputs": [],
   "source": [
    "12.what is the maximum possible length of an identifier?\n",
    "Answer: An identifier can have a maximum length of 79 characters in Python.\n",
    "Python is one of the most popular programming languages. \n",
    "Guido van Rossum created it, and it was released in 1991."
   ]
  },
  {
   "cell_type": "code",
   "execution_count": null,
   "id": "997e16db-ffcd-45ee-81a6-de68a6efbd21",
   "metadata": {},
   "outputs": [],
   "source": [
    "13.what are the benefits of using python?\n",
    "Presence of third-party modules \n",
    "Extensive support libraries(NumPy for numerical calculations, Pandas for data analytics, etc.) \n",
    "Open source and large active community base \n",
    "Versatile, Easy to read, learn and write\n",
    "User-friendly data structures \n",
    "High-level language \n",
    "Dynamically typed language(No need to mention data type based on the value assigned, it takes data type) \n",
    "Object-Oriented and Procedural  Programming language\n",
    "Portable and Interactive\n",
    "Ideal for prototypes – provide more functionality with less coding\n",
    "Highly Efficient(Python’s clean object-oriented design provides enhanced process control, and the language is equipped with excellent text processing and integration capabilities, as well as its own unit testing framework, which makes it more efficient.)\n",
    "Internet of Things(IoT) Opportunities\n",
    "Interpreted Language\n",
    "Portable across Operating systems "
   ]
  },
  {
   "cell_type": "code",
   "execution_count": null,
   "id": "216bfff2-234d-4135-b4b7-6171612fef57",
   "metadata": {},
   "outputs": [],
   "source": [
    "14.how is memory managed in python?\n",
    "Memory management in Python involves a private heap containing all Python objects and data structures.\n",
    "The management of this private heap is ensured internally by the Python memory manager."
   ]
  },
  {
   "cell_type": "code",
   "execution_count": null,
   "id": "2a23adf6-6700-4f4e-8b04-93db8463f453",
   "metadata": {},
   "outputs": [],
   "source": [
    "15.how to install python on windows and set path variable?\n",
    "Install python from this link https://www.python.org/downloads/\n",
    "After this, install it on your PC. Look for the location where PYTHON has been installed on your PC using tge following command on your command prompt: cmd python.\n",
    "Then go to advanced system settings and add new variable and name it as PYTHON_NAME and paste the copied path.\n",
    "Then look for the path variable, select it's value and select edit\n",
    "Add a semicolon towards the end of the value if it's not present and then type %PYTHON_HOME%"
   ]
  }
 ],
 "metadata": {
  "kernelspec": {
   "display_name": "Python 3 (ipykernel)",
   "language": "python",
   "name": "python3"
  },
  "language_info": {
   "codemirror_mode": {
    "name": "ipython",
    "version": 3
   },
   "file_extension": ".py",
   "mimetype": "text/x-python",
   "name": "python",
   "nbconvert_exporter": "python",
   "pygments_lexer": "ipython3",
   "version": "3.10.8"
  }
 },
 "nbformat": 4,
 "nbformat_minor": 5
}
